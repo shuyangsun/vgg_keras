{
 "cells": [
  {
   "cell_type": "code",
   "execution_count": 1,
   "metadata": {},
   "outputs": [
    {
     "name": "stderr",
     "output_type": "stream",
     "text": [
      "Using TensorFlow backend.\n"
     ]
    }
   ],
   "source": [
    "import numpy as np\n",
    "import tensorflow as tf\n",
    "import keras"
   ]
  },
  {
   "cell_type": "markdown",
   "metadata": {},
   "source": [
    "## 1. Define Modified VGG-16 Architecture for MNIST"
   ]
  },
  {
   "cell_type": "code",
   "execution_count": 2,
   "metadata": {},
   "outputs": [],
   "source": [
    "class VGG16:\n",
    "    def __init__(self, img_size, num_categories, learning_rate):\n",
    "        self._model = keras.models.Sequential()\n",
    "        self._add_conv_2d_filter(64, input_shape=img_size, duplicate=2)\n",
    "        self._add_max_pooling_layer()\n",
    "        self._add_conv_2d_filter(128, duplicate=2)\n",
    "        self._add_max_pooling_layer()\n",
    "        self._add_conv_2d_filter(256, duplicate=3)\n",
    "        self._add_max_pooling_layer()\n",
    "#         self._add_conv_2d_filter(512, duplicate=3)\n",
    "#         self._add_max_pooling_layer()\n",
    "#         self._add_conv_2d_filter(512, duplicate=3)\n",
    "#         self._add_max_pooling_layer()\n",
    "        self._model.add(keras.layers.Flatten())\n",
    "        self._add_dense_layer(2048, 'relu')\n",
    "        self._add_dense_layer(2048, 'relu')\n",
    "        self._add_dense_layer(num_categories, 'softmax')\n",
    "        self._optimizer = keras.optimizers.Adam(lr=learning_rate)\n",
    "        self._model.compile(\n",
    "            loss='categorical_crossentropy',\n",
    "            optimizer=self._optimizer,\n",
    "            metrics=['accuracy']\n",
    "        )\n",
    "        \n",
    "    def train(self, x, y, batch_size, epochs, dev_ratio=0.2):\n",
    "        self._model.fit(\n",
    "            x=x, y=y, batch_size=batch_size, epochs=epochs, validation_split=dev_ratio, verbose=1\n",
    "        )\n",
    "    \n",
    "    def predict(self, x):\n",
    "        return np.argmax(self._model.predict(x), axis=-1)\n",
    "    \n",
    "    def print_model_summary(self):\n",
    "        self._model.summary()\n",
    "\n",
    "    def _add_conv_2d_filter(self, filters, input_shape=None, duplicate=1):\n",
    "        for idx in range(duplicate):\n",
    "            kwargs = {\n",
    "                'filters': filters,\n",
    "                'kernel_size': 3,\n",
    "                'strides': 1,\n",
    "                'padding': 'same',\n",
    "                'data_format': 'channels_last',\n",
    "                'activation': 'relu',\n",
    "                'kernel_initializer': 'glorot_normal'\n",
    "            }\n",
    "            if input_shape is not None and idx == 0:\n",
    "                kwargs['input_shape'] = input_shape\n",
    "            self._model.add(keras.layers.Conv2D(**kwargs))\n",
    "    \n",
    "    def _add_max_pooling_layer(self):\n",
    "        self._model.add(keras.layers.MaxPool2D(pool_size=2, strides=2))\n",
    "    \n",
    "    def _add_dense_layer(self, units, activation):\n",
    "        self._model.add(keras.layers.Dense(units=units, activation=activation, kernel_initializer='glorot_normal'))"
   ]
  },
  {
   "cell_type": "markdown",
   "metadata": {},
   "source": [
    "## 2. Get MNIST Dataset"
   ]
  },
  {
   "cell_type": "code",
   "execution_count": 3,
   "metadata": {},
   "outputs": [],
   "source": [
    "from tensorflow.examples.tutorials.mnist import input_data"
   ]
  },
  {
   "cell_type": "code",
   "execution_count": 4,
   "metadata": {},
   "outputs": [
    {
     "name": "stdout",
     "output_type": "stream",
     "text": [
      "WARNING:tensorflow:From <ipython-input-4-478afc6797d1>:1: read_data_sets (from tensorflow.contrib.learn.python.learn.datasets.mnist) is deprecated and will be removed in a future version.\n",
      "Instructions for updating:\n",
      "Please use alternatives such as official/mnist/dataset.py from tensorflow/models.\n",
      "WARNING:tensorflow:From c:\\program files\\python35\\lib\\site-packages\\tensorflow\\contrib\\learn\\python\\learn\\datasets\\mnist.py:260: maybe_download (from tensorflow.contrib.learn.python.learn.datasets.base) is deprecated and will be removed in a future version.\n",
      "Instructions for updating:\n",
      "Please write your own downloading logic.\n",
      "WARNING:tensorflow:From c:\\program files\\python35\\lib\\site-packages\\tensorflow\\contrib\\learn\\python\\learn\\datasets\\mnist.py:262: extract_images (from tensorflow.contrib.learn.python.learn.datasets.mnist) is deprecated and will be removed in a future version.\n",
      "Instructions for updating:\n",
      "Please use tf.data to implement this functionality.\n",
      "Extracting data/mnist\\train-images-idx3-ubyte.gz\n",
      "WARNING:tensorflow:From c:\\program files\\python35\\lib\\site-packages\\tensorflow\\contrib\\learn\\python\\learn\\datasets\\mnist.py:267: extract_labels (from tensorflow.contrib.learn.python.learn.datasets.mnist) is deprecated and will be removed in a future version.\n",
      "Instructions for updating:\n",
      "Please use tf.data to implement this functionality.\n",
      "Extracting data/mnist\\train-labels-idx1-ubyte.gz\n",
      "WARNING:tensorflow:From c:\\program files\\python35\\lib\\site-packages\\tensorflow\\contrib\\learn\\python\\learn\\datasets\\mnist.py:110: dense_to_one_hot (from tensorflow.contrib.learn.python.learn.datasets.mnist) is deprecated and will be removed in a future version.\n",
      "Instructions for updating:\n",
      "Please use tf.one_hot on tensors.\n",
      "Extracting data/mnist\\t10k-images-idx3-ubyte.gz\n",
      "Extracting data/mnist\\t10k-labels-idx1-ubyte.gz\n",
      "WARNING:tensorflow:From c:\\program files\\python35\\lib\\site-packages\\tensorflow\\contrib\\learn\\python\\learn\\datasets\\mnist.py:290: DataSet.__init__ (from tensorflow.contrib.learn.python.learn.datasets.mnist) is deprecated and will be removed in a future version.\n",
      "Instructions for updating:\n",
      "Please use alternatives such as official/mnist/dataset.py from tensorflow/models.\n"
     ]
    }
   ],
   "source": [
    "mnist = input_data.read_data_sets(\"data/mnist\", one_hot=True, reshape=False)"
   ]
  },
  {
   "cell_type": "code",
   "execution_count": 5,
   "metadata": {},
   "outputs": [],
   "source": [
    "model = VGG16(\n",
    "    mnist.train.images.shape[1:],\n",
    "    mnist.train.labels.shape[-1],\n",
    "    1e-3\n",
    ")"
   ]
  },
  {
   "cell_type": "code",
   "execution_count": 6,
   "metadata": {},
   "outputs": [
    {
     "name": "stdout",
     "output_type": "stream",
     "text": [
      "_________________________________________________________________\n",
      "Layer (type)                 Output Shape              Param #   \n",
      "=================================================================\n",
      "conv2d_1 (Conv2D)            (None, 28, 28, 64)        640       \n",
      "_________________________________________________________________\n",
      "conv2d_2 (Conv2D)            (None, 28, 28, 64)        36928     \n",
      "_________________________________________________________________\n",
      "max_pooling2d_1 (MaxPooling2 (None, 14, 14, 64)        0         \n",
      "_________________________________________________________________\n",
      "conv2d_3 (Conv2D)            (None, 14, 14, 128)       73856     \n",
      "_________________________________________________________________\n",
      "conv2d_4 (Conv2D)            (None, 14, 14, 128)       147584    \n",
      "_________________________________________________________________\n",
      "max_pooling2d_2 (MaxPooling2 (None, 7, 7, 128)         0         \n",
      "_________________________________________________________________\n",
      "conv2d_5 (Conv2D)            (None, 7, 7, 256)         295168    \n",
      "_________________________________________________________________\n",
      "conv2d_6 (Conv2D)            (None, 7, 7, 256)         590080    \n",
      "_________________________________________________________________\n",
      "conv2d_7 (Conv2D)            (None, 7, 7, 256)         590080    \n",
      "_________________________________________________________________\n",
      "max_pooling2d_3 (MaxPooling2 (None, 3, 3, 256)         0         \n",
      "_________________________________________________________________\n",
      "flatten_1 (Flatten)          (None, 2304)              0         \n",
      "_________________________________________________________________\n",
      "dense_1 (Dense)              (None, 2048)              4720640   \n",
      "_________________________________________________________________\n",
      "dense_2 (Dense)              (None, 2048)              4196352   \n",
      "_________________________________________________________________\n",
      "dense_3 (Dense)              (None, 10)                20490     \n",
      "=================================================================\n",
      "Total params: 10,671,818\n",
      "Trainable params: 10,671,818\n",
      "Non-trainable params: 0\n",
      "_________________________________________________________________\n"
     ]
    }
   ],
   "source": [
    "model.print_model_summary()"
   ]
  },
  {
   "cell_type": "code",
   "execution_count": 7,
   "metadata": {},
   "outputs": [
    {
     "name": "stdout",
     "output_type": "stream",
     "text": [
      "Train on 49500 samples, validate on 5500 samples\n",
      "Epoch 1/50\n",
      "49500/49500 [==============================] - 10s 204us/step - loss: 0.3184 - acc: 0.8975 - val_loss: 0.0470 - val_acc: 0.9856\n",
      "Epoch 2/50\n",
      "49500/49500 [==============================] - 7s 148us/step - loss: 0.0513 - acc: 0.9841 - val_loss: 0.0412 - val_acc: 0.9873\n",
      "Epoch 3/50\n",
      "49500/49500 [==============================] - 7s 148us/step - loss: 0.0363 - acc: 0.9889 - val_loss: 0.0256 - val_acc: 0.9920\n",
      "Epoch 4/50\n",
      "49500/49500 [==============================] - 7s 148us/step - loss: 0.0303 - acc: 0.9907 - val_loss: 0.0273 - val_acc: 0.9916\n",
      "Epoch 5/50\n",
      "49500/49500 [==============================] - 7s 150us/step - loss: 0.0239 - acc: 0.9928 - val_loss: 0.0293 - val_acc: 0.9918\n",
      "Epoch 6/50\n",
      "49500/49500 [==============================] - 7s 149us/step - loss: 0.0190 - acc: 0.9945 - val_loss: 0.0261 - val_acc: 0.9924\n",
      "Epoch 7/50\n",
      "49500/49500 [==============================] - 7s 147us/step - loss: 0.0167 - acc: 0.9947 - val_loss: 0.0284 - val_acc: 0.9916\n",
      "Epoch 8/50\n",
      "49500/49500 [==============================] - 7s 150us/step - loss: 0.0160 - acc: 0.9950 - val_loss: 0.0189 - val_acc: 0.9951\n",
      "Epoch 9/50\n",
      "49500/49500 [==============================] - 7s 151us/step - loss: 0.0139 - acc: 0.9958 - val_loss: 0.0308 - val_acc: 0.9922\n",
      "Epoch 10/50\n",
      "49500/49500 [==============================] - 7s 151us/step - loss: 0.0172 - acc: 0.9950 - val_loss: 0.0361 - val_acc: 0.9900\n",
      "Epoch 11/50\n",
      "49500/49500 [==============================] - 7s 149us/step - loss: 0.0153 - acc: 0.9949 - val_loss: 0.0367 - val_acc: 0.9916\n",
      "Epoch 12/50\n",
      "49500/49500 [==============================] - 7s 149us/step - loss: 0.0149 - acc: 0.9956 - val_loss: 0.0340 - val_acc: 0.9905\n",
      "Epoch 13/50\n",
      "49500/49500 [==============================] - 7s 148us/step - loss: 0.0147 - acc: 0.9958 - val_loss: 0.0296 - val_acc: 0.9911\n",
      "Epoch 14/50\n",
      "49500/49500 [==============================] - 7s 148us/step - loss: 0.0121 - acc: 0.9963 - val_loss: 0.0235 - val_acc: 0.9949\n",
      "Epoch 15/50\n",
      "49500/49500 [==============================] - 7s 148us/step - loss: 0.0081 - acc: 0.9974 - val_loss: 0.0313 - val_acc: 0.9924\n",
      "Epoch 16/50\n",
      "49500/49500 [==============================] - 7s 151us/step - loss: 0.0093 - acc: 0.9972 - val_loss: 0.0332 - val_acc: 0.9927\n",
      "Epoch 17/50\n",
      "49500/49500 [==============================] - 7s 148us/step - loss: 0.0079 - acc: 0.9978 - val_loss: 0.0298 - val_acc: 0.9922\n",
      "Epoch 18/50\n",
      "49500/49500 [==============================] - 7s 148us/step - loss: 0.0102 - acc: 0.9972 - val_loss: 0.0266 - val_acc: 0.9942\n",
      "Epoch 19/50\n",
      "49500/49500 [==============================] - 7s 148us/step - loss: 0.0118 - acc: 0.9967 - val_loss: 0.0254 - val_acc: 0.9942\n",
      "Epoch 20/50\n",
      "49500/49500 [==============================] - 7s 149us/step - loss: 0.0118 - acc: 0.9964 - val_loss: 0.0252 - val_acc: 0.9945\n",
      "Epoch 21/50\n",
      "49500/49500 [==============================] - 7s 148us/step - loss: 0.0049 - acc: 0.9987 - val_loss: 0.0259 - val_acc: 0.9929\n",
      "Epoch 22/50\n",
      "49500/49500 [==============================] - 7s 148us/step - loss: 0.0132 - acc: 0.9965 - val_loss: 0.0319 - val_acc: 0.9913\n",
      "Epoch 23/50\n",
      "49500/49500 [==============================] - 7s 148us/step - loss: 0.0091 - acc: 0.9975 - val_loss: 0.0326 - val_acc: 0.9929\n",
      "Epoch 24/50\n",
      "49500/49500 [==============================] - 7s 150us/step - loss: 0.0070 - acc: 0.9980 - val_loss: 0.0332 - val_acc: 0.9936\n",
      "Epoch 25/50\n",
      "49500/49500 [==============================] - 7s 150us/step - loss: 0.0067 - acc: 0.9983 - val_loss: 0.0384 - val_acc: 0.9931\n",
      "Epoch 26/50\n",
      "49500/49500 [==============================] - 7s 148us/step - loss: 0.0105 - acc: 0.9971 - val_loss: 0.0457 - val_acc: 0.9935\n",
      "Epoch 27/50\n",
      "49500/49500 [==============================] - 7s 148us/step - loss: 0.0106 - acc: 0.9972 - val_loss: 0.0396 - val_acc: 0.9918\n",
      "Epoch 28/50\n",
      "49500/49500 [==============================] - 7s 148us/step - loss: 0.0082 - acc: 0.9977 - val_loss: 0.0351 - val_acc: 0.9927\n",
      "Epoch 29/50\n",
      "49500/49500 [==============================] - 7s 148us/step - loss: 0.0039 - acc: 0.9991 - val_loss: 0.0406 - val_acc: 0.9924\n",
      "Epoch 30/50\n",
      "49500/49500 [==============================] - 7s 148us/step - loss: 0.0093 - acc: 0.9978 - val_loss: 0.0369 - val_acc: 0.9924\n",
      "Epoch 31/50\n",
      "49500/49500 [==============================] - 7s 148us/step - loss: 0.0104 - acc: 0.9977 - val_loss: 0.0369 - val_acc: 0.9938\n",
      "Epoch 32/50\n",
      "49500/49500 [==============================] - 7s 148us/step - loss: 0.0048 - acc: 0.9987 - val_loss: 0.0348 - val_acc: 0.9935\n",
      "Epoch 33/50\n",
      "49500/49500 [==============================] - 7s 151us/step - loss: 0.0059 - acc: 0.9987 - val_loss: 0.0613 - val_acc: 0.9889\n",
      "Epoch 34/50\n",
      "49500/49500 [==============================] - 7s 148us/step - loss: 0.0092 - acc: 0.9979 - val_loss: 0.0387 - val_acc: 0.9940\n",
      "Epoch 35/50\n",
      "49500/49500 [==============================] - 7s 148us/step - loss: 0.0050 - acc: 0.9987 - val_loss: 0.0307 - val_acc: 0.9945\n",
      "Epoch 36/50\n",
      "49500/49500 [==============================] - 7s 148us/step - loss: 0.0015 - acc: 0.9997 - val_loss: 0.0406 - val_acc: 0.9942\n",
      "Epoch 37/50\n",
      "49500/49500 [==============================] - 7s 145us/step - loss: 0.0069 - acc: 0.9987 - val_loss: 0.0367 - val_acc: 0.9929\n",
      "Epoch 38/50\n",
      "49500/49500 [==============================] - 7s 145us/step - loss: 0.0126 - acc: 0.9968 - val_loss: 0.0352 - val_acc: 0.9940\n",
      "Epoch 39/50\n",
      "49500/49500 [==============================] - 7s 145us/step - loss: 0.0116 - acc: 0.9974 - val_loss: 0.0312 - val_acc: 0.9938\n",
      "Epoch 40/50\n",
      "49500/49500 [==============================] - 7s 150us/step - loss: 0.0054 - acc: 0.9987 - val_loss: 0.0321 - val_acc: 0.9942\n",
      "Epoch 41/50\n",
      "49500/49500 [==============================] - 7s 151us/step - loss: 0.0015 - acc: 0.9995 - val_loss: 0.0398 - val_acc: 0.9945\n",
      "Epoch 42/50\n",
      "49500/49500 [==============================] - 7s 147us/step - loss: 0.0087 - acc: 0.9980 - val_loss: 0.0323 - val_acc: 0.9955\n",
      "Epoch 43/50\n",
      "49500/49500 [==============================] - 7s 147us/step - loss: 0.0065 - acc: 0.9984 - val_loss: 0.0506 - val_acc: 0.9915\n",
      "Epoch 44/50\n",
      "49500/49500 [==============================] - 7s 147us/step - loss: 0.0068 - acc: 0.9984 - val_loss: 0.0269 - val_acc: 0.9956\n",
      "Epoch 45/50\n",
      "49500/49500 [==============================] - 7s 147us/step - loss: 7.3433e-04 - acc: 0.9998 - val_loss: 0.0423 - val_acc: 0.9938\n",
      "Epoch 46/50\n",
      "49500/49500 [==============================] - 7s 147us/step - loss: 0.0027 - acc: 0.9994 - val_loss: 0.0344 - val_acc: 0.9940\n",
      "Epoch 47/50\n",
      "49500/49500 [==============================] - 7s 147us/step - loss: 0.0076 - acc: 0.9981 - val_loss: 0.0457 - val_acc: 0.9942\n",
      "Epoch 48/50\n",
      "49500/49500 [==============================] - 7s 147us/step - loss: 0.0097 - acc: 0.9980 - val_loss: 0.0519 - val_acc: 0.9913\n",
      "Epoch 49/50\n",
      "49500/49500 [==============================] - 7s 150us/step - loss: 0.0056 - acc: 0.9987 - val_loss: 0.0259 - val_acc: 0.9960\n",
      "Epoch 50/50\n",
      "49500/49500 [==============================] - 7s 147us/step - loss: 0.0015 - acc: 0.9998 - val_loss: 0.0365 - val_acc: 0.9944\n"
     ]
    }
   ],
   "source": [
    "model.train(\n",
    "    x=mnist.train.images,\n",
    "    y=mnist.train.labels,\n",
    "    batch_size=256,\n",
    "    epochs=50,\n",
    "    dev_ratio=0.1\n",
    ")"
   ]
  },
  {
   "cell_type": "code",
   "execution_count": 8,
   "metadata": {},
   "outputs": [
    {
     "data": {
      "text/plain": [
       "array([7, 2, 1, 0, 4, 1, 4, 9, 5, 9], dtype=int64)"
      ]
     },
     "execution_count": 8,
     "metadata": {},
     "output_type": "execute_result"
    }
   ],
   "source": [
    "model.predict(mnist.test.images[:10])"
   ]
  },
  {
   "cell_type": "code",
   "execution_count": 9,
   "metadata": {},
   "outputs": [
    {
     "data": {
      "text/plain": [
       "array([7, 2, 1, 0, 4, 1, 4, 9, 5, 9], dtype=int64)"
      ]
     },
     "execution_count": 9,
     "metadata": {},
     "output_type": "execute_result"
    }
   ],
   "source": [
    "np.argmax(mnist.test.labels[:10], axis=-1)"
   ]
  }
 ],
 "metadata": {
  "kernelspec": {
   "display_name": "Python 3",
   "language": "python",
   "name": "python3"
  },
  "language_info": {
   "codemirror_mode": {
    "name": "ipython",
    "version": 3
   },
   "file_extension": ".py",
   "mimetype": "text/x-python",
   "name": "python",
   "nbconvert_exporter": "python",
   "pygments_lexer": "ipython3",
   "version": "3.5.4"
  }
 },
 "nbformat": 4,
 "nbformat_minor": 2
}
